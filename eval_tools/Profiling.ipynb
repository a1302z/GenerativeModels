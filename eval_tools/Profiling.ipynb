{
 "cells": [
  {
   "cell_type": "code",
   "execution_count": 2,
   "metadata": {},
   "outputs": [],
   "source": [
    "import pstats\n",
    "import cProfile\n",
    "import re"
   ]
  },
  {
   "cell_type": "code",
   "execution_count": 3,
   "metadata": {},
   "outputs": [],
   "source": [
    "#cProfile.run('re.compile(\"eval_tools/AE_reconstruction.py --model AE --data CelebA --model_path trained_models/AE_CelebA_2019-03-23_14\\:17/final_model\")', 'stats')"
   ]
  },
  {
   "cell_type": "code",
   "execution_count": 11,
   "metadata": {},
   "outputs": [
    {
     "name": "stdout",
     "output_type": "stream",
     "text": [
      "Sat Mar 23 18:14:49 2019    profile_training\n",
      "\n",
      "         5402510 function calls (5388022 primitive calls) in 21.022 seconds\n",
      "\n",
      "   Ordered by: cumulative time\n",
      "   List reduced from 5586 to 25 due to restriction <25>\n",
      "\n",
      "   ncalls  tottime  percall  cumtime  percall filename:lineno(function)\n",
      "    781/1    0.006    0.000   21.023   21.023 {built-in method builtins.exec}\n",
      "        1    0.005    0.005   21.023   21.023 train_model.py:1(<module>)\n",
      "        1    0.007    0.007   19.923   19.923 /media/alex/Shared/GenerativeModels/common/trainer.py:17(train)\n",
      "        7    0.040    0.006   13.505    1.929 /home/alex/anaconda3/envs/py3_genmodels/lib/python3.7/site-packages/torch/utils/data/dataloader.py:612(__next__)\n",
      "        6    0.084    0.014   13.206    2.201 /home/alex/anaconda3/envs/py3_genmodels/lib/python3.7/site-packages/torch/utils/data/dataloader.py:615(<listcomp>)\n",
      "    60000    1.263    0.000   13.122    0.000 /home/alex/anaconda3/envs/py3_genmodels/lib/python3.7/site-packages/torchvision/datasets/mnist.py:80(__getitem__)\n",
      "    60000    0.261    0.000    9.228    0.000 /home/alex/anaconda3/envs/py3_genmodels/lib/python3.7/site-packages/torchvision/transforms/transforms.py:58(__call__)\n",
      "    60000    0.093    0.000    5.427    0.000 /home/alex/anaconda3/envs/py3_genmodels/lib/python3.7/site-packages/torchvision/transforms/transforms.py:83(__call__)\n",
      "    60000    1.223    0.000    5.334    0.000 /home/alex/anaconda3/envs/py3_genmodels/lib/python3.7/site-packages/torchvision/transforms/functional.py:38(to_tensor)\n",
      "    60000    0.171    0.000    3.540    0.000 /home/alex/anaconda3/envs/py3_genmodels/lib/python3.7/site-packages/torchvision/transforms/transforms.py:155(__call__)\n",
      "    60000    1.311    0.000    3.370    0.000 /home/alex/anaconda3/envs/py3_genmodels/lib/python3.7/site-packages/torchvision/transforms/functional.py:184(normalize)\n",
      "       50    2.680    0.054    2.681    0.054 {method 'cuda' of 'torch._C._TensorBase' objects}\n",
      "        2    0.000    0.000    2.429    1.215 /home/alex/anaconda3/envs/py3_genmodels/lib/python3.7/site-packages/torch/nn/modules/module.py:246(cuda)\n",
      "     45/2    0.000    0.000    2.429    1.215 /home/alex/anaconda3/envs/py3_genmodels/lib/python3.7/site-packages/torch/nn/modules/module.py:185(_apply)\n",
      "       38    0.000    0.000    2.429    0.064 /home/alex/anaconda3/envs/py3_genmodels/lib/python3.7/site-packages/torch/nn/modules/module.py:260(<lambda>)\n",
      "    60004    0.618    0.000    2.381    0.000 /home/alex/anaconda3/envs/py3_genmodels/lib/python3.7/site-packages/PIL/Image.py:2482(fromarray)\n",
      "   264/18    0.002    0.000    2.073    0.115 /home/alex/anaconda3/envs/py3_genmodels/lib/python3.7/site-packages/torch/nn/modules/module.py:483(__call__)\n",
      "        6    0.000    0.000    1.773    0.295 /media/alex/Shared/GenerativeModels/models/Autoencoder.py:282(forward)\n",
      "    60004    0.225    0.000    1.730    0.000 /home/alex/anaconda3/envs/py3_genmodels/lib/python3.7/site-packages/PIL/Image.py:2421(frombuffer)\n",
      "    60000    1.367    0.000    1.367    0.000 {method 'div' of 'torch._C._TensorBase' objects}\n",
      "       48    0.000    0.000    1.226    0.026 /home/alex/anaconda3/envs/py3_genmodels/lib/python3.7/site-packages/torch/nn/modules/container.py:90(forward)\n",
      "        6    0.000    0.000    1.215    0.202 /media/alex/Shared/GenerativeModels/models/Autoencoder.py:88(forward)\n",
      "       12    0.000    0.000    1.213    0.101 /media/alex/Shared/GenerativeModels/models/Autoencoder.py:43(forward)\n",
      "       18    0.000    0.000    1.207    0.067 /home/alex/anaconda3/envs/py3_genmodels/lib/python3.7/site-packages/torch/nn/modules/conv.py:317(forward)\n",
      "       18    1.207    0.067    1.207    0.067 {built-in method conv2d}\n",
      "\n",
      "\n"
     ]
    },
    {
     "data": {
      "text/plain": [
       "<pstats.Stats at 0x7f2b2555fba8>"
      ]
     },
     "execution_count": 11,
     "metadata": {},
     "output_type": "execute_result"
    }
   ],
   "source": [
    "p = pstats.Stats('profile_training')\n",
    "p.sort_stats('cumtime')\n",
    "p.print_stats(25)"
   ]
  },
  {
   "cell_type": "code",
   "execution_count": null,
   "metadata": {},
   "outputs": [],
   "source": []
  }
 ],
 "metadata": {
  "kernelspec": {
   "display_name": "py3_genmodels",
   "language": "python",
   "name": "py3_genmodels"
  },
  "language_info": {
   "codemirror_mode": {
    "name": "ipython",
    "version": 3
   },
   "file_extension": ".py",
   "mimetype": "text/x-python",
   "name": "python",
   "nbconvert_exporter": "python",
   "pygments_lexer": "ipython3",
   "version": "3.7.1"
  }
 },
 "nbformat": 4,
 "nbformat_minor": 2
}
