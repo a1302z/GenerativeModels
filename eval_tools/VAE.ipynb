{
 "cells": [
  {
   "cell_type": "code",
   "execution_count": null,
   "metadata": {},
   "outputs": [],
   "source": [
    "import torch\n",
    "import torchvision\n",
    "from torchvision.utils import make_grid, save_image\n",
    "import matplotlib\n",
    "import matplotlib.pyplot as plt\n",
    "import numpy as np\n",
    "import ipywidgets as wdg\n",
    "import os,sys,inspect\n",
    "currentdir = os.path.dirname(os.path.abspath(inspect.getfile(inspect.currentframe())))\n",
    "parentdir = os.path.dirname(currentdir)\n",
    "sys.path.insert(0,parentdir)\n",
    "import common.setup as setup"
   ]
  },
  {
   "cell_type": "code",
   "execution_count": null,
   "metadata": {},
   "outputs": [],
   "source": [
    "model_name = 'VAE'\n",
    "model_path = '../trained_models/VAE_MNIST_2019-03-23_12:57/final_model'\n",
    "config_path = os.path.join(os.path.dirname(model_path), 'settings.config')\n",
    "config = setup.parse_config(config_path)\n",
    "loader = setup.create_test_loader(data='MNIST', directory='../data')\n",
    "model = setup.create_model(config, model_name)\n",
    "checkpoint = torch.load(model_path)\n",
    "model.load_state_dict(checkpoint['model_state_dict'])"
   ]
  },
  {
   "cell_type": "code",
   "execution_count": null,
   "metadata": {},
   "outputs": [],
   "source": [
    "cuda = torch.cuda.is_available()\n",
    "if cuda:\n",
    "    model.cuda()"
   ]
  },
  {
   "cell_type": "markdown",
   "metadata": {},
   "source": [
    "## Test reconstruction of test samples"
   ]
  },
  {
   "cell_type": "code",
   "execution_count": null,
   "metadata": {},
   "outputs": [],
   "source": [
    "imgs = []\n",
    "n = 15\n",
    "for i, (data, target) in enumerate(loader):\n",
    "    if i > n-1:\n",
    "        break\n",
    "    imgs.append(data.squeeze(0))\n",
    "    mu, log_var = model.encode(data.cuda())\n",
    "    z = model.sample_z(mu, log_var)\n",
    "    rec = model.decode(z)\n",
    "    rec = rec.detach().cpu()\n",
    "    #print('mu: %s\\n\\var: %s\\n'%(str(mu), str(log_var)))\n",
    "    imgs.append(rec.squeeze(0))\n",
    "\n",
    "imgs = make_grid(imgs, nrow=2)\n",
    "imgs = np.moveaxis(imgs.numpy(), 0, -1)\n",
    "plt.figure(figsize=(2.0, n))\n",
    "plt.imshow(imgs)\n",
    "plt.show()"
   ]
  },
  {
   "cell_type": "markdown",
   "metadata": {},
   "source": [
    "## Create new samples"
   ]
  },
  {
   "cell_type": "code",
   "execution_count": null,
   "metadata": {},
   "outputs": [],
   "source": [
    "hidden_size = tuple(map(int, config['hidden_dim_size'].split(',')))\n",
    "eps = torch.randn(hidden_size[1])\n",
    "if cuda:\n",
    "    eps = eps.cuda()\n",
    "img = model.decode(eps)\n",
    "img = img.squeeze().detach().cpu().numpy()\n",
    "print(img.shape)"
   ]
  },
  {
   "cell_type": "code",
   "execution_count": null,
   "metadata": {},
   "outputs": [],
   "source": [
    "plt.imshow(img, cmap=plt.cm.gray)\n",
    "plt.show()"
   ]
  },
  {
   "cell_type": "markdown",
   "metadata": {},
   "source": [
    "### Variety of generated samples"
   ]
  },
  {
   "cell_type": "code",
   "execution_count": null,
   "metadata": {},
   "outputs": [],
   "source": [
    "square = 10\n",
    "imgs = []\n",
    "for i in range(square**2):\n",
    "    eps = torch.randn(hidden_size[1])\n",
    "    if cuda:\n",
    "        eps = eps.cuda()\n",
    "    #eps = mu + torch.exp(log_var / 2) * eps\n",
    "    img = model.decode(eps)\n",
    "    img = img.squeeze(0).detach().cpu()\n",
    "    imgs.append(img)\n",
    "imgs = make_grid(imgs, nrow=square)\n",
    "plt.figure(figsize=(square, square))\n",
    "plt.imshow(np.moveaxis(imgs.numpy(), 0, -1), cmap=plt.cm.gray)\n",
    "plt.show()"
   ]
  },
  {
   "cell_type": "markdown",
   "metadata": {},
   "source": [
    "## Show regularity in created samples"
   ]
  },
  {
   "cell_type": "code",
   "execution_count": null,
   "metadata": {},
   "outputs": [],
   "source": [
    "def plot_img(x, y):\n",
    "    z = torch.Tensor([x, y])\n",
    "    if cuda:\n",
    "        z = z.cuda()\n",
    "    img = model.decode(z)\n",
    "    img = img.squeeze().detach().cpu()\n",
    "    plt.imshow(img, cmap=plt.cm.gray)\n",
    "    return None"
   ]
  },
  {
   "cell_type": "code",
   "execution_count": null,
   "metadata": {},
   "outputs": [],
   "source": [
    "borders = 5.0\n",
    "wdg.interact(plot_img, x=wdg.FloatSlider(min=-borders, max=borders, step=0.1),y=wdg.FloatSlider(min=-borders, max=borders, step=0.1))"
   ]
  },
  {
   "cell_type": "code",
   "execution_count": null,
   "metadata": {},
   "outputs": [],
   "source": [
    "borders = 3.0\n",
    "spacing = 0.25\n",
    "\n",
    "num = int((borders*2)/spacing+1.0)\n",
    "print('Num per dim: %d'%num)\n",
    "X = np.linspace(-borders, borders, num=num)\n",
    "Y = np.linspace(-borders, borders, num=num)\n",
    "imgs = []\n",
    "for x in X:\n",
    "    for y in Y:\n",
    "        z = torch.Tensor([x, y])\n",
    "        if cuda:\n",
    "            z = z.cuda()\n",
    "        img = model.decode(z)\n",
    "        img = img.squeeze(0).detach().cpu()\n",
    "        imgs.append(img)\n",
    "imgs = make_grid(imgs, nrow=num)\n",
    "plt.figure(figsize=(num/2.0, num/2.0))\n",
    "plt.imshow(np.moveaxis(imgs.numpy(), 0, -1), cmap=plt.cm.gray)\n",
    "plt.savefig('../result_figures/VAE_generation.png')\n",
    "plt.show()"
   ]
  },
  {
   "cell_type": "code",
   "execution_count": null,
   "metadata": {},
   "outputs": [],
   "source": []
  },
  {
   "cell_type": "code",
   "execution_count": null,
   "metadata": {},
   "outputs": [],
   "source": []
  }
 ],
 "metadata": {
  "kernelspec": {
   "display_name": "py3_genmodels",
   "language": "python",
   "name": "py3_genmodels"
  },
  "language_info": {
   "codemirror_mode": {
    "name": "ipython",
    "version": 3
   },
   "file_extension": ".py",
   "mimetype": "text/x-python",
   "name": "python",
   "nbconvert_exporter": "python",
   "pygments_lexer": "ipython3",
   "version": "3.7.1"
  }
 },
 "nbformat": 4,
 "nbformat_minor": 2
}
